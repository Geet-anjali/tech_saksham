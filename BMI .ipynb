{
 "cells": [
  {
   "cell_type": "code",
   "execution_count": null,
   "id": "7710d43c",
   "metadata": {},
   "outputs": [],
   "source": [
    "import numpy as np\n",
    "height_inches=np.array([61,65,63,69,70,73,68,64,63,62,66])\n",
    "weight_pounds = np.array([100,200,160,180,140,155,165,172,180,200,168])\n",
    "\n",
    "height_meter= np.array(0.0245*height_inches)\n",
    "weight_kg=np.array(0.45*weight_pounds)\n",
    "\n",
    "BMI= np.array(weight_kg/(height_meter**2))\n",
    "\n",
    "#printing the height and weight of people\n",
    "print(\"Height of people \",height_meter)\n",
    "print(\"\\nWeight of people\" ,weight_kg)\n",
    "\n",
    "#BMI of people\n",
    "print(\"\\nBMI of people\\n\",BMI)\n",
    "\n",
    "    \n",
    "# Showing the index of people having BMI lower than 21\n",
    "BMI_lessthan_21=np.where(BMI<21)  \n",
    "print(\"\\n\\nIndex of people having BMI lower than 21\",BMI_lessthan_21)\n",
    "\n",
    "#Counting the no of people whose BMI is lower than 21\n",
    "count=len(BMI_lessthan_21)\n",
    "print(\"\\n\\nNo of people having BMI less than 21\\n\",count)\n",
    "\n",
    "#Calculating the mean and printing the same \n",
    "Mean =np.average(BMI)\n",
    "print(\"\\n\\nMean of BMI's is\",Mean)   \n",
    "\n",
    "\n",
    "\n",
    "#Calculating the standard deviation and printing the same\n",
    "Stardard_daviation=np.std(BMI)\n",
    "print(\"\\n\\nStandard Deviation of the BMI's is\\n\",Stardard_daviation)\n"
   ]
  },
  {
   "cell_type": "code",
   "execution_count": null,
   "id": "c006730d",
   "metadata": {},
   "outputs": [],
   "source": []
  },
  {
   "cell_type": "code",
   "execution_count": null,
   "id": "afb65fa4",
   "metadata": {},
   "outputs": [],
   "source": []
  }
 ],
 "metadata": {
  "kernelspec": {
   "display_name": "Python 3",
   "language": "python",
   "name": "python3"
  },
  "language_info": {
   "codemirror_mode": {
    "name": "ipython",
    "version": 3
   },
   "file_extension": ".py",
   "mimetype": "text/x-python",
   "name": "python",
   "nbconvert_exporter": "python",
   "pygments_lexer": "ipython3",
   "version": "3.8.8"
  }
 },
 "nbformat": 4,
 "nbformat_minor": 5
}
